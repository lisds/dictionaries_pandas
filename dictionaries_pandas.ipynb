{
 "cells": [
  {
   "cell_type": "markdown",
   "id": "ea8143e1",
   "metadata": {},
   "source": [
    "# Drugs, Dictionaries and Pandas\n",
    "\n",
    "In this exercise we are going to cover some uses of dictionaries\n",
    "when using the `pandas` library. Pandas uses dictionaries in many\n",
    "places — which is not surprising, given they are a fundamental\n",
    "Python type.\n",
    "\n",
    "The dataset we will use contains data about global alcohol and drug use disorder deaths. It comes from the [Institute for Health Metrics and Evaluation (IHME) at the University of Washington](https://www.healthdata.org/research-analysis/gbd/collaborator-network). The link to the dataset can found [here](https://ourworldindata.org/grapher/deaths-substance-disorders-who?tab=table).\n",
    "\n",
    "For these exercises, let's imagine we're working on a presentation about this dataset, and need to perform various data transformations and aggregations in order to generate some plots and before we do some analysis. Dictionaries and lambda functions will come in handy for several aspects of this process.\n",
    "\n",
    "First, let's get set up."
   ]
  },
  {
   "cell_type": "code",
   "execution_count": null,
   "id": "fe40b6a1",
   "metadata": {},
   "outputs": [],
   "source": [
    "# please run this cell\n",
    "import pandas as pd\n",
    "import numpy as np\n",
    "import matplotlib.pyplot as plt\n",
    "\n",
    "# this imports the machinery for marking answers to questions\n",
    "from client.api.notebook import Notebook\n",
    "ok = Notebook('dictionaries_pandas.ok')"
   ]
  },
  {
   "cell_type": "markdown",
   "id": "fb9b53d2",
   "metadata": {},
   "source": [
    "Next, we import the data:"
   ]
  },
  {
   "cell_type": "code",
   "execution_count": null,
   "id": "bcff9aec",
   "metadata": {},
   "outputs": [],
   "source": [
    "# Load the data for the exercise.\n",
    "for_marking = pd.read_csv(\"deaths-substance-disorders-who.csv\").dropna()\n",
    "mark_string = 'total_Alcohol_deaths_2000_to_2019'\n",
    "\n",
    "# data from: https://ourworldindata.org/illicit-drug-use\n",
    "substance = pd.read_csv(\"deaths-substance-disorders-who.csv\").dropna()\n",
    "\n",
    "# show the first 35 rows of the data\n",
    "substance.head(35)"
   ]
  },
  {
   "cell_type": "markdown",
   "id": "c7aa6579",
   "metadata": {},
   "source": [
    "The dataframe gives the number of deaths from substance use disorders per country, between the year 2000 and 2019.\n",
    "\n",
    "You can see that each observational unit (in this case countries) appears in multiple rows of the dataframe (one row for each year from 2000 to 2019).\n",
    "\n",
    "The column names for this dataset (as with many real world datasets you may work with) are quite messy:"
   ]
  },
  {
   "cell_type": "code",
   "execution_count": null,
   "id": "f2f7bac9",
   "metadata": {},
   "outputs": [],
   "source": [
    "# show the column names\n",
    "substance.columns"
   ]
  },
  {
   "cell_type": "markdown",
   "id": "40e01f18",
   "metadata": {},
   "source": [
    "Remember too that the column names are the default thing that a data frame will give, when asked for a sequence of things, so we can also get the column names with:"
   ]
  },
  {
   "cell_type": "code",
   "execution_count": null,
   "id": "52296fa3",
   "metadata": {},
   "outputs": [],
   "source": [
    "# Get the column names as a list\n",
    "list(substance)"
   ]
  },
  {
   "cell_type": "markdown",
   "id": "be020740",
   "metadata": {},
   "source": [
    "## Question 1\n",
    "\n",
    "Using the data frame `rename` method, create a dictionary called\n",
    "`my_renaming_dict` to rename all the columns that begin with `'Deaths - Cause:`\n",
    "and end with `- Sex: Both sexes - Age_group: ALLAges'`. Rename each column so\n",
    "that just the cause of death remains in the column name.\n",
    "\n",
    "So for instance `'Deaths - Cause: Alcohol use disorders - Sex: Both sexes - Age_group: ALLAges'` should be renamed to `Alcohol use disorders`.\n",
    "\n",
    "And `'Deaths - Cause: Drug use disorders - Sex: Both sexes - Age_group:\n",
    "ALLAges'` should be renamed to `Drug use disorders` and so on. (For the\n",
    "marking, please preserve the capitalization, and ensure there are no blank\n",
    "spaces at the end of each column name string).\n",
    "\n",
    "After renaming, the values in `substance.columns` should be `['Entity', 'Code',\n",
    "'Year', 'Alcohol use disorders', 'Drug use disorders', 'Opioid use disorders',\n",
    "'Cocaine use disorders', 'Amphetamine use disorders', 'Other drug use\n",
    "disorders']`\n",
    "\n",
    "**Hint**: you can do this the long-hand manual way, by typing in the entries of\n",
    "the dict, or you might be able to think of ways of doing this more\n",
    "automatically, say with a for-loop, and string `replace`..   The long-hand way\n",
    "is fine though.\n",
    "\n",
    "**Hint**: If you mess up the column names and want to go back to the originals,\n",
    "run the first cell in the notebook again."
   ]
  },
  {
   "cell_type": "code",
   "execution_count": null,
   "id": "6d38ea29",
   "metadata": {},
   "outputs": [],
   "source": [
    "#- make your dictionary here\n",
    "my_renaming_dict =  ...\n",
    "#- Then apply the renaming dict to rename the columns.\n",
    "substance = ...\n",
    "# show the dataframe, with the renamed columns\n",
    "substance.head()"
   ]
  },
  {
   "cell_type": "code",
   "execution_count": null,
   "id": "0921763a",
   "metadata": {},
   "outputs": [],
   "source": [
    "# run this cell to check your answer\n",
    "_ = ok.grade('q1')"
   ]
  },
  {
   "cell_type": "markdown",
   "id": "110be3eb",
   "metadata": {},
   "source": [
    "## Question 2\n",
    "\n",
    "For ease of reference, your colleague would like you to make a dictionary which links each country in the `Entity` column to the corresponding code in the `Code` column.\n",
    "\n",
    "The country names in the `Entity` column should be the keys of the dictionary, and the values should be the country identification codes from the `Code` column.\n",
    "\n",
    "Your dictionary should be called `country_codes_dict` and once its completed, the first few key value pairs should look like this:\n",
    "\n",
    "`{'Afghanistan': 'AFG',\n",
    " 'Albania': 'ALB',\n",
    " 'Algeria': 'DZA',\n",
    " 'Angola': 'AGO',\n",
    " 'Antigua and Barbuda': 'ATG',`\n",
    "\n",
    "**Hint**: there are various ways of doing this, some rather fancy, and some not.  As usual, generally prefer the less-fancy ways, or at least, the ways which are most easy to read and understand.\n",
    "\n",
    "**Hint**: For one way of solving this, you might consider using a `for` loop.\n",
    "The `unique` method of a Pandas Series may also be useful."
   ]
  },
  {
   "cell_type": "code",
   "execution_count": null,
   "id": "6ba22608",
   "metadata": {},
   "outputs": [],
   "source": [
    "country_codes_dict = ...\n",
    "# show the dictionary\n",
    "country_codes_dict"
   ]
  },
  {
   "cell_type": "code",
   "execution_count": null,
   "id": "0deac5d0",
   "metadata": {},
   "outputs": [],
   "source": [
    "# run this cell to check your answer\n",
    "_ = ok.grade('q2')"
   ]
  },
  {
   "cell_type": "markdown",
   "id": "93ea9a31",
   "metadata": {},
   "source": [
    "## Question 3\n",
    "\n",
    "So that you can quickly retrieve rows from the dataframe, your colleague would\n",
    "like you to write a function which takes two arguments: `year` which should be\n",
    "an `int` like `2010`, and `country_code` which should be a string like `\"AFG\"`.\n",
    "\n",
    "Your function should be called `get_year_for_country_func` and it should return\n",
    "the row of the `substance` dataframe which corresponds to the `year` and\n",
    "`country_code` with which it was supplied. So for instance\n",
    "`get_year_for_country_func(2009, 'AFG')` should return the data for Afghanistan\n",
    "in the year 2009."
   ]
  },
  {
   "cell_type": "code",
   "execution_count": null,
   "id": "b15f251a",
   "metadata": {},
   "outputs": [],
   "source": [
    "# Write your function here\n",
    "def get_year_for_country_func(year, country_code):\n",
    "    # You can use the `substance` data frame variable in the function\n",
    "    ...\n",
    "    return ...\n",
    "# test the function with an example couple of values.\n",
    "get_year_for_country_func(2009, 'AFG')"
   ]
  },
  {
   "cell_type": "code",
   "execution_count": null,
   "id": "ac987b3f",
   "metadata": {},
   "outputs": [],
   "source": [
    "# run this cell to check your answer\n",
    "_ = ok.grade('q3a')"
   ]
  },
  {
   "cell_type": "markdown",
   "id": "00ddefa1",
   "metadata": {},
   "source": [
    "Now, for some reason, your colleague is insisting that this should not be\n",
    "a full named function, as you wrote above, but it should be a lambda function.\n",
    "Again it should take two arguments, `year` and `country_code`, and it should\n",
    "return the rows from `substance` corresponding to that year and country code.\n",
    "How would you write your function above as a lambda function?\n",
    "\n",
    "Call the lambda function `get_year_for_country`."
   ]
  },
  {
   "cell_type": "code",
   "execution_count": null,
   "id": "36f4080a",
   "metadata": {},
   "outputs": [],
   "source": [
    "#- write your lambda function here\n",
    "get_year_for_country = lambda ... : ...\n",
    "# test the function\n",
    "get_year_for_country(2009, 'AFG')"
   ]
  },
  {
   "cell_type": "code",
   "execution_count": null,
   "id": "9b5c2732",
   "metadata": {},
   "outputs": [],
   "source": [
    "# run this cell to check your answer\n",
    "_ = ok.grade('q3')"
   ]
  },
  {
   "cell_type": "markdown",
   "id": "63d77700",
   "metadata": {},
   "source": [
    "## Question 4\n",
    "\n",
    "For your analysis, you'd like to calculate the total deaths from alcohol, for\n",
    "each country, for all the years in the dataset (2000 - 2019).\n",
    "\n",
    "Write a function which takes a country code (like `RUS` for Russia,`ZWE`\n",
    "for Zimbabwe etc.) and returns the total number of deaths from alcohol for that\n",
    "country, across all the years (2000 - 2019).\n",
    "\n",
    "*Note*: the deaths from alcohol, for each country, for each year, are in the\n",
    "`Alcohol use disorders` column of the `substance` dataframe.\n",
    "\n",
    "**Hint**: don't forget you'll need to add up all the deaths for the years\n",
    "2000-2019 to get the answer we need."
   ]
  },
  {
   "cell_type": "code",
   "execution_count": null,
   "id": "98961e1a",
   "metadata": {},
   "outputs": [],
   "source": [
    "# write your standard (not-lambda) function here\n",
    "def total_alcohol_deaths_for_country_func(country_code):\n",
    "    ...\n",
    "    return ...\n",
    "# test the function\n",
    "total_alcohol_deaths_for_country_func('AFG')"
   ]
  },
  {
   "cell_type": "code",
   "execution_count": null,
   "id": "b2227336",
   "metadata": {},
   "outputs": [],
   "source": [
    "# run this cell to check your answer\n",
    "_ = ok.grade('q4a')"
   ]
  },
  {
   "cell_type": "markdown",
   "id": "1a80f40f",
   "metadata": {},
   "source": [
    "Your colleague is out of control.  They want you to write this function as a lambda function as well.   Call this lambda function `total_alcohol_deaths_for_country`:"
   ]
  },
  {
   "cell_type": "code",
   "execution_count": null,
   "id": "2e1aaf4b",
   "metadata": {},
   "outputs": [],
   "source": [
    "#- write your lambda function here\n",
    "total_alcohol_deaths_for_country = ...\n",
    "# test the function\n",
    "total_alcohol_deaths_for_country('AFG')"
   ]
  },
  {
   "cell_type": "code",
   "execution_count": null,
   "id": "602c2e07",
   "metadata": {},
   "outputs": [],
   "source": [
    "# run this cell to check your answer\n",
    "_ = ok.grade('q4')"
   ]
  },
  {
   "cell_type": "markdown",
   "id": "f2836044",
   "metadata": {},
   "source": [
    "## Question 5\n",
    "\n",
    "We will now use our function to build a dataframe which shows the 2000 - 2019\n",
    "total alcohol deaths for each country, along with each country's name and\n",
    "identifier code (e.g. `AFG`, `RUS` etc).\n",
    "\n",
    "We'll use a dictionary to create our dataframe, by passing it to `pd.DataFrame`.\n",
    "\n",
    "As you remember, if we pass a `dict` to `pd.DataFrame`, the keys become the column names, and the values become the columns.  So, each value of our passed dictionary should be a sequence of some sort, to give the sequence of values for the corresponding column.\n",
    "\n",
    "Create a dictionary called `dict_to_make_totals_by_country_df`, which should\n",
    "have two keys (one for each column), and each corresponding value will be\n",
    "a sequence containing the values for that column.\n",
    "\n",
    "One key (soon to become a column) should be called `Country`, and the values\n",
    "associated with it should be the *names* of the countries which are currently\n",
    "stored in the `country_codes_dict`.\n",
    "\n",
    "The other key should be called `Code` and its values should be the country\n",
    "*codes* which are currently stored in the `country_codes_dict`.\n",
    "\n",
    "This dictionary will be used to construct a dataframe called\n",
    "`totals_per_country` in the lines of code at the end of the cell below:\n",
    "\n",
    "You may want to remind yourself of the contents of the `country_codes_dict`:"
   ]
  },
  {
   "cell_type": "code",
   "execution_count": null,
   "id": "90cd2eff",
   "metadata": {},
   "outputs": [],
   "source": [
    "country_codes_dict"
   ]
  },
  {
   "cell_type": "markdown",
   "id": "db20db1b",
   "metadata": {},
   "source": [
    "On to the question:"
   ]
  },
  {
   "cell_type": "code",
   "execution_count": null,
   "id": "161268cc",
   "metadata": {},
   "outputs": [],
   "source": [
    "dict_to_make_totals_by_country_df = ...\n",
    "# create a dataframe, using the dictionary you just created\n",
    "totals_per_country = pd.DataFrame(dict_to_make_totals_by_country_df)\n",
    "\n",
    "# show the dataframe\n",
    "totals_per_country"
   ]
  },
  {
   "cell_type": "code",
   "execution_count": null,
   "id": "a27b46e3",
   "metadata": {},
   "outputs": [],
   "source": [
    "# run this cell to check your answer\n",
    "_ = ok.grade('q5')"
   ]
  },
  {
   "cell_type": "markdown",
   "id": "8f285dee",
   "metadata": {},
   "source": [
    "## Question 6\n",
    "\n",
    "Make a new column in the `totals_per_country` dataframe which contains the *total deaths from alcohol use* for each country, between 2000 and 2019 inclusive. The new column should be called `total_Alcohol_deaths_2000_to_2019`.\n",
    "\n",
    "**Hint**: You will very likely want to\n",
    "[apply](https://lisds.github.io/textbook/functions-conditionals/apply_functions.html)\n",
    "your previous function or lambda function to do this work.\n",
    "\n",
    "**Hint**: Be careful — which data frame are you getting the country codes from?"
   ]
  },
  {
   "cell_type": "code",
   "execution_count": null,
   "id": "dcb7e056",
   "metadata": {},
   "outputs": [],
   "source": [
    "totals_per_country['total_Alcohol_deaths_2000_to_2019'] = ...\n",
    "# show the dataframe\n",
    "totals_per_country.head(20)"
   ]
  },
  {
   "cell_type": "code",
   "execution_count": null,
   "id": "e598582a",
   "metadata": {},
   "outputs": [],
   "source": [
    "# run this cell to check your answer\n",
    "_ = ok.grade('q6')"
   ]
  },
  {
   "cell_type": "markdown",
   "id": "67f04f08",
   "metadata": {},
   "source": [
    "## Question 7\n",
    "\n",
    "Create a dataframe called `totals_per_country_sorted_by_alc` which sorts the data in the `totals_per_country` dataframe by `total_Alcohol_deaths_2000_to_2019`, in *descending* order (highest value first):"
   ]
  },
  {
   "cell_type": "code",
   "execution_count": null,
   "id": "3bce5f47",
   "metadata": {},
   "outputs": [],
   "source": [
    "totals_per_country_sorted_by_alc = ...\n",
    "# show the sorted dataframe\n",
    "totals_per_country_sorted_by_alc "
   ]
  },
  {
   "cell_type": "code",
   "execution_count": null,
   "id": "ff2bdcc7",
   "metadata": {},
   "outputs": [],
   "source": [
    "# run this cell to check your answer\n",
    "_ = ok.grade('q7')"
   ]
  },
  {
   "cell_type": "markdown",
   "id": "4c1b5018",
   "metadata": {},
   "source": [
    "## Question 8\n",
    "\n",
    "Oops, if you look at the first row of `totals_per_country_sorted_by_alc` you'll see that it is the global total (`Country == 'World'`), rather than corresponding to a specific country.\n",
    "\n",
    "Remove just the row where `Country == 'World'` from the dataframe, using any method you like, so that the dataframe contains only country-level data."
   ]
  },
  {
   "cell_type": "code",
   "execution_count": null,
   "id": "5de3706e",
   "metadata": {},
   "outputs": [],
   "source": [
    "totals_per_country_sorted_by_alc = ...\n",
    "# show the sorted dataframe (with the 'World' row removed)\n",
    "totals_per_country_sorted_by_alc"
   ]
  },
  {
   "cell_type": "code",
   "execution_count": null,
   "id": "520cd939",
   "metadata": {},
   "outputs": [],
   "source": [
    "# run this cell to check your answer\n",
    "_ = ok.grade('q8')"
   ]
  },
  {
   "cell_type": "markdown",
   "id": "860f3bf9",
   "metadata": {},
   "source": [
    "In order to present the data to some colleagues, you need to display the data\n",
    "in the `totals_per_country_sorted_by_alc` dataframe in a more digestible way.\n",
    "\n",
    "Using the first 20 rows of the `totals_per_country_sorted_by_alc` dataframe, create a horizontal barplot with the country names on the vertical axis and the total alcohol deaths on the horizontal axis. (Because the data is sorted in descending order, using the first 20 rows will show the data for the countries with the highest deaths from alcohol between 2000 and 2019).\n",
    "\n",
    "Here is a picture of how the top of your plot should look:\n",
    "\n",
    "![](images/graph_example.png)\n",
    "\n",
    "**Hint**: Don't forget to work on the top 20 countries.\n",
    "\n",
    "**Hint**: You might want to investigate the arguments to the `plot.barh` method\n",
    "of the data frame."
   ]
  },
  {
   "cell_type": "code",
   "execution_count": null,
   "id": "d9caed0a",
   "metadata": {},
   "outputs": [],
   "source": [
    "#- your plot here\n",
    "..."
   ]
  },
  {
   "cell_type": "markdown",
   "id": "eac8c2e2",
   "metadata": {},
   "source": [
    "## Question 9\n",
    "\n",
    "For your analysis, you need to also calculate the total number of deaths from cocaine use from the year 2000 to 2019, for each country.\n",
    "\n",
    "Create a new column in the `totals_per_country_sorted_by_alc` data frame called `\"total_Cocaine_deaths_2000_to_2019\"`, which contains the total deaths from cocaine use between 2000 and 2019, for each country. \n",
    "\n",
    "**Hint** Use a lambda or not-lambda function and the `apply` method of the data\n",
    "frame in order to do this.\n",
    "\n",
    "**Hint** Look at your solution above for the alcohol deaths to get started."
   ]
  },
  {
   "cell_type": "code",
   "execution_count": null,
   "id": "752d88d4",
   "metadata": {},
   "outputs": [],
   "source": [
    "#- create your new column, using a function and the pandas apply method, here.\n",
    "totals_per_country_sorted_by_alc['total_Cocaine_deaths_2000_to_2019'] = ...\n",
    "# show the dataframe, with the new column\n",
    "totals_per_country_sorted_by_alc"
   ]
  },
  {
   "cell_type": "code",
   "execution_count": null,
   "id": "1e3a6577",
   "metadata": {},
   "outputs": [],
   "source": [
    "# run this cell to check your answer\n",
    "_ = ok.grade('q9')"
   ]
  },
  {
   "cell_type": "markdown",
   "id": "a08e22b8",
   "metadata": {},
   "source": [
    "## Question 10\n",
    "\n",
    "Create a scatterplot with `total_Alcohol_deaths_2000_to_2019` on the x axis and `total_Cocaine_deaths_2000_to_2019` on the y axis. "
   ]
  },
  {
   "cell_type": "code",
   "execution_count": null,
   "id": "536f2afc",
   "metadata": {},
   "outputs": [],
   "source": [
    "#- your graph here\n",
    "..."
   ]
  },
  {
   "cell_type": "markdown",
   "id": "915c3312",
   "metadata": {},
   "source": [
    "In the cell below, write a brief paragraph of a few sentences about what you\n",
    "think the graph shows about the relationship between total alcohol deaths and\n",
    "total cocaine deaths."
   ]
  },
  {
   "cell_type": "markdown",
   "id": "5ac41327",
   "metadata": {
    "manual_grade": true,
    "manual_problem_id": "alcohol_and_death"
   },
   "source": [
    "*Write your answer here, replacing this text.*"
   ]
  },
  {
   "cell_type": "markdown",
   "id": "52acb6f2",
   "metadata": {},
   "source": [
    "## Question 11\n",
    "\n",
    "To see if your assessment of the graphical relationship was correct, use any method you'd like to calculate the correlation (Pearson's $r$) between `total_Alcohol_deaths_2000_to_2019` and `total_Cocaine_deaths_2000_to_2019`.\n",
    "\n",
    "Store your answer in a variable called `alc_coca_r`:\n",
    "\n",
    "**Hint**: Remember [correlation](https://lisds.github.io/textbook/mean-slopes/Correlation.html)?"
   ]
  },
  {
   "cell_type": "code",
   "execution_count": null,
   "id": "cce6144e",
   "metadata": {},
   "outputs": [],
   "source": [
    "alc_coca_r = ..."
   ]
  },
  {
   "cell_type": "code",
   "execution_count": null,
   "id": "1e83c552",
   "metadata": {},
   "outputs": [],
   "source": [
    "# run this cell to check your answer\n",
    "_ = ok.grade('q11')"
   ]
  },
  {
   "cell_type": "code",
   "execution_count": null,
   "id": "01b158bb",
   "metadata": {},
   "outputs": [],
   "source": [
    "# For your convenience, you can run this cell to run all the tests at once!\n",
    "import os\n",
    "_ = [ok.grade(q[:-3]) for q in os.listdir(\"tests\") if q.startswith('q')]"
   ]
  }
 ],
 "metadata": {
  "jupytext": {
   "cell_metadata_json": true,
   "formats": "ipynb,Rmd",
   "text_representation": {
    "extension": ".Rmd",
    "format_name": "rmarkdown",
    "format_version": "1.2",
    "jupytext_version": "1.14.5"
   }
  },
  "kernelspec": {
   "display_name": "Python 3 (ipykernel)",
   "language": "python",
   "name": "python3"
  }
 },
 "nbformat": 4,
 "nbformat_minor": 5
}
